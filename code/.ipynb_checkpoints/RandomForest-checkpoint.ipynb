{
 "cells": [
  {
   "cell_type": "markdown",
   "metadata": {},
   "source": [
    "# Module 5"
   ]
  },
  {
   "cell_type": "markdown",
   "metadata": {},
   "source": [
    "# Performance measurements of RandomForestClassifier"
   ]
  },
  {
   "cell_type": "code",
   "execution_count": 1,
   "metadata": {},
   "outputs": [],
   "source": [
    "#import library packages\n",
    "import pandas as p\n",
    "import matplotlib.pyplot as plt\n",
    "import seaborn as s\n",
    "import numpy as n"
   ]
  },
  {
   "cell_type": "code",
   "execution_count": 2,
   "metadata": {},
   "outputs": [],
   "source": [
    "import warnings\n",
    "warnings.filterwarnings('ignore')"
   ]
  },
  {
   "cell_type": "code",
   "execution_count": 3,
   "metadata": {},
   "outputs": [],
   "source": [
    "#Load given dataset\n",
    "data = p.read_csv('data1.csv')"
   ]
  },
  {
   "cell_type": "code",
   "execution_count": 4,
   "metadata": {},
   "outputs": [
    {
     "data": {
      "text/html": [
       "<div>\n",
       "<style scoped>\n",
       "    .dataframe tbody tr th:only-of-type {\n",
       "        vertical-align: middle;\n",
       "    }\n",
       "\n",
       "    .dataframe tbody tr th {\n",
       "        vertical-align: top;\n",
       "    }\n",
       "\n",
       "    .dataframe thead th {\n",
       "        text-align: right;\n",
       "    }\n",
       "</style>\n",
       "<table border=\"1\" class=\"dataframe\">\n",
       "  <thead>\n",
       "    <tr style=\"text-align: right;\">\n",
       "      <th></th>\n",
       "      <th>Unnamed: 0</th>\n",
       "      <th>CUSTOMERID</th>\n",
       "      <th>CHECKINGSTATUS</th>\n",
       "      <th>LOANDURATION</th>\n",
       "      <th>CREDITHISTORY</th>\n",
       "      <th>LOANPURPOSE</th>\n",
       "      <th>LOANAMOUNT</th>\n",
       "      <th>EXISTINGSAVINGS</th>\n",
       "      <th>EMPLOYMENTDURATION</th>\n",
       "      <th>INSTALLMENTPERCENT</th>\n",
       "      <th>...</th>\n",
       "      <th>OWNSPROPERTY</th>\n",
       "      <th>AGE</th>\n",
       "      <th>INSTALLMENTPLANS</th>\n",
       "      <th>HOUSING</th>\n",
       "      <th>EXISTINGCREDITSCOUNT</th>\n",
       "      <th>JOB</th>\n",
       "      <th>DEPENDENTS</th>\n",
       "      <th>TELEPHONE</th>\n",
       "      <th>FOREIGNWORKER</th>\n",
       "      <th>RISK</th>\n",
       "    </tr>\n",
       "  </thead>\n",
       "  <tbody>\n",
       "    <tr>\n",
       "      <th>0</th>\n",
       "      <td>0</td>\n",
       "      <td>713a336c-a255-4e2d-9d57-90b3e99e2f06</td>\n",
       "      <td>0_to_200</td>\n",
       "      <td>31</td>\n",
       "      <td>credits_paid_to_date</td>\n",
       "      <td>other</td>\n",
       "      <td>1889</td>\n",
       "      <td>100_to_500</td>\n",
       "      <td>less_1</td>\n",
       "      <td>3</td>\n",
       "      <td>...</td>\n",
       "      <td>savings_insurance</td>\n",
       "      <td>32</td>\n",
       "      <td>none</td>\n",
       "      <td>own</td>\n",
       "      <td>1</td>\n",
       "      <td>skilled</td>\n",
       "      <td>1</td>\n",
       "      <td>none</td>\n",
       "      <td>yes</td>\n",
       "      <td>No Risk</td>\n",
       "    </tr>\n",
       "    <tr>\n",
       "      <th>1</th>\n",
       "      <td>1</td>\n",
       "      <td>140b363f-a3fe-4828-a33f-7284dfdb3969</td>\n",
       "      <td>less_0</td>\n",
       "      <td>18</td>\n",
       "      <td>credits_paid_to_date</td>\n",
       "      <td>car_new</td>\n",
       "      <td>462</td>\n",
       "      <td>less_100</td>\n",
       "      <td>1_to_4</td>\n",
       "      <td>2</td>\n",
       "      <td>...</td>\n",
       "      <td>savings_insurance</td>\n",
       "      <td>37</td>\n",
       "      <td>stores</td>\n",
       "      <td>own</td>\n",
       "      <td>2</td>\n",
       "      <td>skilled</td>\n",
       "      <td>1</td>\n",
       "      <td>none</td>\n",
       "      <td>yes</td>\n",
       "      <td>No Risk</td>\n",
       "    </tr>\n",
       "    <tr>\n",
       "      <th>2</th>\n",
       "      <td>2</td>\n",
       "      <td>43b7b51d-5eda-4860-b461-ebef3d3436f4</td>\n",
       "      <td>less_0</td>\n",
       "      <td>15</td>\n",
       "      <td>prior_payments_delayed</td>\n",
       "      <td>furniture</td>\n",
       "      <td>250</td>\n",
       "      <td>less_100</td>\n",
       "      <td>1_to_4</td>\n",
       "      <td>2</td>\n",
       "      <td>...</td>\n",
       "      <td>real_estate</td>\n",
       "      <td>28</td>\n",
       "      <td>none</td>\n",
       "      <td>own</td>\n",
       "      <td>2</td>\n",
       "      <td>skilled</td>\n",
       "      <td>1</td>\n",
       "      <td>yes</td>\n",
       "      <td>no</td>\n",
       "      <td>No Risk</td>\n",
       "    </tr>\n",
       "    <tr>\n",
       "      <th>3</th>\n",
       "      <td>3</td>\n",
       "      <td>f40eaf08-e6d1-4765-ab20-c5f7faca1635</td>\n",
       "      <td>0_to_200</td>\n",
       "      <td>28</td>\n",
       "      <td>credits_paid_to_date</td>\n",
       "      <td>retraining</td>\n",
       "      <td>3693</td>\n",
       "      <td>less_100</td>\n",
       "      <td>greater_7</td>\n",
       "      <td>3</td>\n",
       "      <td>...</td>\n",
       "      <td>savings_insurance</td>\n",
       "      <td>32</td>\n",
       "      <td>none</td>\n",
       "      <td>own</td>\n",
       "      <td>1</td>\n",
       "      <td>skilled</td>\n",
       "      <td>1</td>\n",
       "      <td>none</td>\n",
       "      <td>yes</td>\n",
       "      <td>No Risk</td>\n",
       "    </tr>\n",
       "    <tr>\n",
       "      <th>4</th>\n",
       "      <td>4</td>\n",
       "      <td>1728910a-d3ff-4799-ac50-203a3a58a3fb</td>\n",
       "      <td>no_checking</td>\n",
       "      <td>28</td>\n",
       "      <td>prior_payments_delayed</td>\n",
       "      <td>education</td>\n",
       "      <td>6235</td>\n",
       "      <td>500_to_1000</td>\n",
       "      <td>greater_7</td>\n",
       "      <td>3</td>\n",
       "      <td>...</td>\n",
       "      <td>unknown</td>\n",
       "      <td>57</td>\n",
       "      <td>none</td>\n",
       "      <td>own</td>\n",
       "      <td>2</td>\n",
       "      <td>skilled</td>\n",
       "      <td>1</td>\n",
       "      <td>none</td>\n",
       "      <td>yes</td>\n",
       "      <td>Risk</td>\n",
       "    </tr>\n",
       "  </tbody>\n",
       "</table>\n",
       "<p>5 rows × 23 columns</p>\n",
       "</div>"
      ],
      "text/plain": [
       "   Unnamed: 0                            CUSTOMERID CHECKINGSTATUS  \\\n",
       "0           0  713a336c-a255-4e2d-9d57-90b3e99e2f06       0_to_200   \n",
       "1           1  140b363f-a3fe-4828-a33f-7284dfdb3969         less_0   \n",
       "2           2  43b7b51d-5eda-4860-b461-ebef3d3436f4         less_0   \n",
       "3           3  f40eaf08-e6d1-4765-ab20-c5f7faca1635       0_to_200   \n",
       "4           4  1728910a-d3ff-4799-ac50-203a3a58a3fb    no_checking   \n",
       "\n",
       "   LOANDURATION           CREDITHISTORY LOANPURPOSE  LOANAMOUNT  \\\n",
       "0            31    credits_paid_to_date       other        1889   \n",
       "1            18    credits_paid_to_date     car_new         462   \n",
       "2            15  prior_payments_delayed   furniture         250   \n",
       "3            28    credits_paid_to_date  retraining        3693   \n",
       "4            28  prior_payments_delayed   education        6235   \n",
       "\n",
       "  EXISTINGSAVINGS EMPLOYMENTDURATION  INSTALLMENTPERCENT  ...  \\\n",
       "0      100_to_500             less_1                   3  ...   \n",
       "1        less_100             1_to_4                   2  ...   \n",
       "2        less_100             1_to_4                   2  ...   \n",
       "3        less_100          greater_7                   3  ...   \n",
       "4     500_to_1000          greater_7                   3  ...   \n",
       "\n",
       "        OWNSPROPERTY AGE  INSTALLMENTPLANS HOUSING  EXISTINGCREDITSCOUNT  \\\n",
       "0  savings_insurance  32              none     own                     1   \n",
       "1  savings_insurance  37            stores     own                     2   \n",
       "2        real_estate  28              none     own                     2   \n",
       "3  savings_insurance  32              none     own                     1   \n",
       "4            unknown  57              none     own                     2   \n",
       "\n",
       "       JOB DEPENDENTS  TELEPHONE FOREIGNWORKER     RISK  \n",
       "0  skilled          1       none           yes  No Risk  \n",
       "1  skilled          1       none           yes  No Risk  \n",
       "2  skilled          1        yes            no  No Risk  \n",
       "3  skilled          1       none           yes  No Risk  \n",
       "4  skilled          1       none           yes     Risk  \n",
       "\n",
       "[5 rows x 23 columns]"
      ]
     },
     "execution_count": 4,
     "metadata": {},
     "output_type": "execute_result"
    }
   ],
   "source": [
    "data.head()"
   ]
  },
  {
   "cell_type": "code",
   "execution_count": 5,
   "metadata": {},
   "outputs": [
    {
     "data": {
      "text/plain": [
       "(6660, 23)"
      ]
     },
     "execution_count": 5,
     "metadata": {},
     "output_type": "execute_result"
    }
   ],
   "source": [
    "data.shape"
   ]
  },
  {
   "cell_type": "code",
   "execution_count": 6,
   "metadata": {},
   "outputs": [
    {
     "name": "stdout",
     "output_type": "stream",
     "text": [
      "<class 'pandas.core.frame.DataFrame'>\n",
      "RangeIndex: 6660 entries, 0 to 6659\n",
      "Data columns (total 23 columns):\n",
      " #   Column                    Non-Null Count  Dtype \n",
      "---  ------                    --------------  ----- \n",
      " 0   Unnamed: 0                6660 non-null   int64 \n",
      " 1   CUSTOMERID                6660 non-null   object\n",
      " 2   CHECKINGSTATUS            6660 non-null   object\n",
      " 3   LOANDURATION              6660 non-null   int64 \n",
      " 4   CREDITHISTORY             6660 non-null   object\n",
      " 5   LOANPURPOSE               6660 non-null   object\n",
      " 6   LOANAMOUNT                6660 non-null   int64 \n",
      " 7   EXISTINGSAVINGS           6660 non-null   object\n",
      " 8   EMPLOYMENTDURATION        6660 non-null   object\n",
      " 9   INSTALLMENTPERCENT        6660 non-null   int64 \n",
      " 10  SEX                       6660 non-null   object\n",
      " 11  OTHERSONLOAN              6660 non-null   object\n",
      " 12  CURRENTRESIDENCEDURATION  6660 non-null   int64 \n",
      " 13  OWNSPROPERTY              6660 non-null   object\n",
      " 14  AGE                       6660 non-null   int64 \n",
      " 15  INSTALLMENTPLANS          6660 non-null   object\n",
      " 16  HOUSING                   6660 non-null   object\n",
      " 17  EXISTINGCREDITSCOUNT      6660 non-null   int64 \n",
      " 18  JOB                       6660 non-null   object\n",
      " 19  DEPENDENTS                6660 non-null   int64 \n",
      " 20  TELEPHONE                 6660 non-null   object\n",
      " 21  FOREIGNWORKER             6660 non-null   object\n",
      " 22  RISK                      6660 non-null   object\n",
      "dtypes: int64(8), object(15)\n",
      "memory usage: 1.2+ MB\n"
     ]
    }
   ],
   "source": [
    "data.info()"
   ]
  },
  {
   "cell_type": "code",
   "execution_count": 7,
   "metadata": {},
   "outputs": [
    {
     "data": {
      "text/plain": [
       "Index(['Unnamed: 0', 'CUSTOMERID', 'CHECKINGSTATUS', 'LOANDURATION',\n",
       "       'CREDITHISTORY', 'LOANPURPOSE', 'LOANAMOUNT', 'EXISTINGSAVINGS',\n",
       "       'EMPLOYMENTDURATION', 'INSTALLMENTPERCENT', 'SEX', 'OTHERSONLOAN',\n",
       "       'CURRENTRESIDENCEDURATION', 'OWNSPROPERTY', 'AGE', 'INSTALLMENTPLANS',\n",
       "       'HOUSING', 'EXISTINGCREDITSCOUNT', 'JOB', 'DEPENDENTS', 'TELEPHONE',\n",
       "       'FOREIGNWORKER', 'RISK'],\n",
       "      dtype='object')"
      ]
     },
     "execution_count": 7,
     "metadata": {},
     "output_type": "execute_result"
    }
   ],
   "source": [
    "data.columns"
   ]
  },
  {
   "cell_type": "code",
   "execution_count": 8,
   "metadata": {},
   "outputs": [
    {
     "data": {
      "text/plain": [
       "array(['0_to_200', 'less_0', 'no_checking', 'greater_200'], dtype=object)"
      ]
     },
     "execution_count": 8,
     "metadata": {},
     "output_type": "execute_result"
    }
   ],
   "source": [
    "data['CHECKINGSTATUS'].unique()"
   ]
  },
  {
   "cell_type": "code",
   "execution_count": 9,
   "metadata": {},
   "outputs": [
    {
     "data": {
      "text/plain": [
       "array([31, 18, 15, 28, 32,  9, 16, 11, 35,  5, 27, 29,  4, 33, 39, 13, 34,\n",
       "       23, 10, 25, 20, 26, 21,  7, 14, 64,  6, 19, 17, 38,  8, 30, 22, 37,\n",
       "       12, 36, 50, 41, 24, 43, 40, 48, 46, 44, 42, 45, 53, 61, 51, 63, 47,\n",
       "       54, 49, 60, 59, 56, 62, 57, 52], dtype=int64)"
      ]
     },
     "execution_count": 9,
     "metadata": {},
     "output_type": "execute_result"
    }
   ],
   "source": [
    "data['LOANDURATION'].unique()"
   ]
  },
  {
   "cell_type": "code",
   "execution_count": 10,
   "metadata": {},
   "outputs": [
    {
     "data": {
      "text/plain": [
       "array(['credits_paid_to_date', 'prior_payments_delayed',\n",
       "       'outstanding_credit', 'all_credits_paid_back', 'no_credits'],\n",
       "      dtype=object)"
      ]
     },
     "execution_count": 10,
     "metadata": {},
     "output_type": "execute_result"
    }
   ],
   "source": [
    "data['CREDITHISTORY'].unique()"
   ]
  },
  {
   "cell_type": "code",
   "execution_count": 11,
   "metadata": {},
   "outputs": [
    {
     "data": {
      "text/plain": [
       "array(['other', 'car_new', 'furniture', 'retraining', 'education',\n",
       "       'vacation', 'appliances', 'car_used', 'repairs', 'radio_tv',\n",
       "       'business'], dtype=object)"
      ]
     },
     "execution_count": 11,
     "metadata": {},
     "output_type": "execute_result"
    }
   ],
   "source": [
    "data['LOANPURPOSE'].unique()"
   ]
  },
  {
   "cell_type": "code",
   "execution_count": 12,
   "metadata": {},
   "outputs": [
    {
     "data": {
      "text/plain": [
       "3354"
      ]
     },
     "execution_count": 12,
     "metadata": {},
     "output_type": "execute_result"
    }
   ],
   "source": [
    "data['LOANAMOUNT'].nunique()"
   ]
  },
  {
   "cell_type": "code",
   "execution_count": 13,
   "metadata": {},
   "outputs": [
    {
     "data": {
      "text/plain": [
       "array(['100_to_500', 'less_100', '500_to_1000', 'unknown', 'greater_1000'],\n",
       "      dtype=object)"
      ]
     },
     "execution_count": 13,
     "metadata": {},
     "output_type": "execute_result"
    }
   ],
   "source": [
    "data['EXISTINGSAVINGS'].unique()"
   ]
  },
  {
   "cell_type": "code",
   "execution_count": 14,
   "metadata": {},
   "outputs": [
    {
     "data": {
      "text/plain": [
       "array(['less_1', '1_to_4', 'greater_7', '4_to_7', 'unemployed'],\n",
       "      dtype=object)"
      ]
     },
     "execution_count": 14,
     "metadata": {},
     "output_type": "execute_result"
    }
   ],
   "source": [
    "data['EMPLOYMENTDURATION'].unique()"
   ]
  },
  {
   "cell_type": "code",
   "execution_count": 15,
   "metadata": {},
   "outputs": [
    {
     "data": {
      "text/plain": [
       "array([3, 2, 6, 5, 4, 1], dtype=int64)"
      ]
     },
     "execution_count": 15,
     "metadata": {},
     "output_type": "execute_result"
    }
   ],
   "source": [
    "data['INSTALLMENTPERCENT'].unique()"
   ]
  },
  {
   "cell_type": "code",
   "execution_count": 16,
   "metadata": {},
   "outputs": [
    {
     "data": {
      "text/plain": [
       "array(['female', 'male'], dtype=object)"
      ]
     },
     "execution_count": 16,
     "metadata": {},
     "output_type": "execute_result"
    }
   ],
   "source": [
    "data['SEX'].unique()"
   ]
  },
  {
   "cell_type": "code",
   "execution_count": 17,
   "metadata": {},
   "outputs": [
    {
     "data": {
      "text/plain": [
       "array(['none', 'co-applicant', 'guarantor'], dtype=object)"
      ]
     },
     "execution_count": 17,
     "metadata": {},
     "output_type": "execute_result"
    }
   ],
   "source": [
    "data['OTHERSONLOAN'].unique()"
   ]
  },
  {
   "cell_type": "code",
   "execution_count": 18,
   "metadata": {},
   "outputs": [
    {
     "data": {
      "text/plain": [
       "array([3, 2, 5, 4, 1, 6], dtype=int64)"
      ]
     },
     "execution_count": 18,
     "metadata": {},
     "output_type": "execute_result"
    }
   ],
   "source": [
    "data['CURRENTRESIDENCEDURATION'].unique()"
   ]
  },
  {
   "cell_type": "code",
   "execution_count": 19,
   "metadata": {},
   "outputs": [
    {
     "data": {
      "text/plain": [
       "array(['savings_insurance', 'real_estate', 'unknown', 'car_other'],\n",
       "      dtype=object)"
      ]
     },
     "execution_count": 19,
     "metadata": {},
     "output_type": "execute_result"
    }
   ],
   "source": [
    "data['OWNSPROPERTY'].unique()"
   ]
  },
  {
   "cell_type": "code",
   "execution_count": 20,
   "metadata": {},
   "outputs": [
    {
     "data": {
      "text/plain": [
       "array([32, 37, 28, 57, 41, 36, 22, 49, 19, 34, 40, 44, 52, 35, 26, 27, 24,\n",
       "       33, 51, 38, 46, 31, 39, 29, 45, 25, 59, 55, 42, 54, 20, 50, 30, 47,\n",
       "       53, 43, 48, 23, 56, 21, 60, 70, 61, 62, 58, 65, 66, 74, 63, 71, 67,\n",
       "       73, 64], dtype=int64)"
      ]
     },
     "execution_count": 20,
     "metadata": {},
     "output_type": "execute_result"
    }
   ],
   "source": [
    "data['AGE'].unique()"
   ]
  },
  {
   "cell_type": "code",
   "execution_count": 21,
   "metadata": {},
   "outputs": [
    {
     "data": {
      "text/plain": [
       "array(['none', 'stores', 'bank'], dtype=object)"
      ]
     },
     "execution_count": 21,
     "metadata": {},
     "output_type": "execute_result"
    }
   ],
   "source": [
    "data['INSTALLMENTPLANS'].unique()"
   ]
  },
  {
   "cell_type": "code",
   "execution_count": 22,
   "metadata": {},
   "outputs": [
    {
     "data": {
      "text/plain": [
       "array(['own', 'free', 'rent'], dtype=object)"
      ]
     },
     "execution_count": 22,
     "metadata": {},
     "output_type": "execute_result"
    }
   ],
   "source": [
    "data['HOUSING'].unique()"
   ]
  },
  {
   "cell_type": "code",
   "execution_count": 23,
   "metadata": {},
   "outputs": [
    {
     "data": {
      "text/plain": [
       "array([1, 2, 3, 4], dtype=int64)"
      ]
     },
     "execution_count": 23,
     "metadata": {},
     "output_type": "execute_result"
    }
   ],
   "source": [
    "data['EXISTINGCREDITSCOUNT'].unique()"
   ]
  },
  {
   "cell_type": "code",
   "execution_count": 24,
   "metadata": {},
   "outputs": [
    {
     "data": {
      "text/plain": [
       "array(['skilled', 'management_self-employed', 'unskilled', 'unemployed'],\n",
       "      dtype=object)"
      ]
     },
     "execution_count": 24,
     "metadata": {},
     "output_type": "execute_result"
    }
   ],
   "source": [
    "data['JOB'].unique()"
   ]
  },
  {
   "cell_type": "code",
   "execution_count": 25,
   "metadata": {},
   "outputs": [
    {
     "data": {
      "text/plain": [
       "array([1, 2], dtype=int64)"
      ]
     },
     "execution_count": 25,
     "metadata": {},
     "output_type": "execute_result"
    }
   ],
   "source": [
    "data['DEPENDENTS'].unique()"
   ]
  },
  {
   "cell_type": "code",
   "execution_count": 26,
   "metadata": {},
   "outputs": [
    {
     "data": {
      "text/plain": [
       "array(['none', 'yes'], dtype=object)"
      ]
     },
     "execution_count": 26,
     "metadata": {},
     "output_type": "execute_result"
    }
   ],
   "source": [
    "data['TELEPHONE'].unique()"
   ]
  },
  {
   "cell_type": "code",
   "execution_count": 27,
   "metadata": {},
   "outputs": [
    {
     "data": {
      "text/plain": [
       "array(['yes', 'no'], dtype=object)"
      ]
     },
     "execution_count": 27,
     "metadata": {},
     "output_type": "execute_result"
    }
   ],
   "source": [
    "data['FOREIGNWORKER'].unique()"
   ]
  },
  {
   "cell_type": "code",
   "execution_count": 28,
   "metadata": {},
   "outputs": [
    {
     "data": {
      "text/plain": [
       "array(['No Risk', 'Risk'], dtype=object)"
      ]
     },
     "execution_count": 28,
     "metadata": {},
     "output_type": "execute_result"
    }
   ],
   "source": [
    "data['RISK'].unique()"
   ]
  },
  {
   "cell_type": "code",
   "execution_count": 29,
   "metadata": {},
   "outputs": [],
   "source": [
    "df=data.dropna()"
   ]
  },
  {
   "cell_type": "code",
   "execution_count": 30,
   "metadata": {},
   "outputs": [
    {
     "data": {
      "text/plain": [
       "(6660, 23)"
      ]
     },
     "execution_count": 30,
     "metadata": {},
     "output_type": "execute_result"
    }
   ],
   "source": [
    "df.shape"
   ]
  },
  {
   "cell_type": "code",
   "execution_count": 31,
   "metadata": {},
   "outputs": [
    {
     "data": {
      "text/plain": [
       "Index(['Unnamed: 0', 'CUSTOMERID', 'CHECKINGSTATUS', 'LOANDURATION',\n",
       "       'CREDITHISTORY', 'LOANPURPOSE', 'LOANAMOUNT', 'EXISTINGSAVINGS',\n",
       "       'EMPLOYMENTDURATION', 'INSTALLMENTPERCENT', 'SEX', 'OTHERSONLOAN',\n",
       "       'CURRENTRESIDENCEDURATION', 'OWNSPROPERTY', 'AGE', 'INSTALLMENTPLANS',\n",
       "       'HOUSING', 'EXISTINGCREDITSCOUNT', 'JOB', 'DEPENDENTS', 'TELEPHONE',\n",
       "       'FOREIGNWORKER', 'RISK'],\n",
       "      dtype='object')"
      ]
     },
     "execution_count": 31,
     "metadata": {},
     "output_type": "execute_result"
    }
   ],
   "source": [
    "df.columns"
   ]
  },
  {
   "cell_type": "code",
   "execution_count": 32,
   "metadata": {},
   "outputs": [],
   "source": [
    "del df['CUSTOMERID']\n",
    "del df['Unnamed: 0']"
   ]
  },
  {
   "cell_type": "code",
   "execution_count": 33,
   "metadata": {},
   "outputs": [
    {
     "data": {
      "text/plain": [
       "Index(['CHECKINGSTATUS', 'LOANDURATION', 'CREDITHISTORY', 'LOANPURPOSE',\n",
       "       'LOANAMOUNT', 'EXISTINGSAVINGS', 'EMPLOYMENTDURATION',\n",
       "       'INSTALLMENTPERCENT', 'SEX', 'OTHERSONLOAN', 'CURRENTRESIDENCEDURATION',\n",
       "       'OWNSPROPERTY', 'AGE', 'INSTALLMENTPLANS', 'HOUSING',\n",
       "       'EXISTINGCREDITSCOUNT', 'JOB', 'DEPENDENTS', 'TELEPHONE',\n",
       "       'FOREIGNWORKER', 'RISK'],\n",
       "      dtype='object')"
      ]
     },
     "execution_count": 33,
     "metadata": {},
     "output_type": "execute_result"
    }
   ],
   "source": [
    "df.columns"
   ]
  },
  {
   "cell_type": "code",
   "execution_count": 34,
   "metadata": {},
   "outputs": [],
   "source": [
    "from sklearn.preprocessing import LabelEncoder\n",
    "label_columns= ['CHECKINGSTATUS','CREDITHISTORY',\n",
    "       'LOANPURPOSE','EXISTINGSAVINGS', 'EMPLOYMENTDURATION',\n",
    " 'SEX', 'OTHERSONLOAN','OWNSPROPERTY','INSTALLMENTPLANS','HOUSING','JOB','TELEPHONE',\n",
    "       'FOREIGNWORKER', 'RISK']\n",
    "lebel_data = LabelEncoder()\n",
    "for i in label_columns:\n",
    "    df[i] = lebel_data.fit_transform(df[i]).astype(int)"
   ]
  },
  {
   "cell_type": "code",
   "execution_count": 35,
   "metadata": {},
   "outputs": [
    {
     "name": "stdout",
     "output_type": "stream",
     "text": [
      "<class 'pandas.core.frame.DataFrame'>\n",
      "Int64Index: 6660 entries, 0 to 6659\n",
      "Data columns (total 21 columns):\n",
      " #   Column                    Non-Null Count  Dtype\n",
      "---  ------                    --------------  -----\n",
      " 0   CHECKINGSTATUS            6660 non-null   int32\n",
      " 1   LOANDURATION              6660 non-null   int64\n",
      " 2   CREDITHISTORY             6660 non-null   int32\n",
      " 3   LOANPURPOSE               6660 non-null   int32\n",
      " 4   LOANAMOUNT                6660 non-null   int64\n",
      " 5   EXISTINGSAVINGS           6660 non-null   int32\n",
      " 6   EMPLOYMENTDURATION        6660 non-null   int32\n",
      " 7   INSTALLMENTPERCENT        6660 non-null   int64\n",
      " 8   SEX                       6660 non-null   int32\n",
      " 9   OTHERSONLOAN              6660 non-null   int32\n",
      " 10  CURRENTRESIDENCEDURATION  6660 non-null   int64\n",
      " 11  OWNSPROPERTY              6660 non-null   int32\n",
      " 12  AGE                       6660 non-null   int64\n",
      " 13  INSTALLMENTPLANS          6660 non-null   int32\n",
      " 14  HOUSING                   6660 non-null   int32\n",
      " 15  EXISTINGCREDITSCOUNT      6660 non-null   int64\n",
      " 16  JOB                       6660 non-null   int32\n",
      " 17  DEPENDENTS                6660 non-null   int64\n",
      " 18  TELEPHONE                 6660 non-null   int32\n",
      " 19  FOREIGNWORKER             6660 non-null   int32\n",
      " 20  RISK                      6660 non-null   int32\n",
      "dtypes: int32(14), int64(7)\n",
      "memory usage: 780.5 KB\n"
     ]
    }
   ],
   "source": [
    "df.info()"
   ]
  },
  {
   "cell_type": "code",
   "execution_count": 36,
   "metadata": {},
   "outputs": [
    {
     "data": {
      "text/html": [
       "<div>\n",
       "<style scoped>\n",
       "    .dataframe tbody tr th:only-of-type {\n",
       "        vertical-align: middle;\n",
       "    }\n",
       "\n",
       "    .dataframe tbody tr th {\n",
       "        vertical-align: top;\n",
       "    }\n",
       "\n",
       "    .dataframe thead th {\n",
       "        text-align: right;\n",
       "    }\n",
       "</style>\n",
       "<table border=\"1\" class=\"dataframe\">\n",
       "  <thead>\n",
       "    <tr style=\"text-align: right;\">\n",
       "      <th></th>\n",
       "      <th>CHECKINGSTATUS</th>\n",
       "      <th>LOANDURATION</th>\n",
       "      <th>CREDITHISTORY</th>\n",
       "      <th>LOANPURPOSE</th>\n",
       "      <th>LOANAMOUNT</th>\n",
       "      <th>EXISTINGSAVINGS</th>\n",
       "      <th>EMPLOYMENTDURATION</th>\n",
       "      <th>INSTALLMENTPERCENT</th>\n",
       "      <th>SEX</th>\n",
       "      <th>OTHERSONLOAN</th>\n",
       "      <th>...</th>\n",
       "      <th>OWNSPROPERTY</th>\n",
       "      <th>AGE</th>\n",
       "      <th>INSTALLMENTPLANS</th>\n",
       "      <th>HOUSING</th>\n",
       "      <th>EXISTINGCREDITSCOUNT</th>\n",
       "      <th>JOB</th>\n",
       "      <th>DEPENDENTS</th>\n",
       "      <th>TELEPHONE</th>\n",
       "      <th>FOREIGNWORKER</th>\n",
       "      <th>RISK</th>\n",
       "    </tr>\n",
       "  </thead>\n",
       "  <tbody>\n",
       "    <tr>\n",
       "      <th>0</th>\n",
       "      <td>0</td>\n",
       "      <td>31</td>\n",
       "      <td>1</td>\n",
       "      <td>6</td>\n",
       "      <td>1889</td>\n",
       "      <td>0</td>\n",
       "      <td>3</td>\n",
       "      <td>3</td>\n",
       "      <td>0</td>\n",
       "      <td>2</td>\n",
       "      <td>...</td>\n",
       "      <td>2</td>\n",
       "      <td>32</td>\n",
       "      <td>1</td>\n",
       "      <td>1</td>\n",
       "      <td>1</td>\n",
       "      <td>1</td>\n",
       "      <td>1</td>\n",
       "      <td>0</td>\n",
       "      <td>1</td>\n",
       "      <td>0</td>\n",
       "    </tr>\n",
       "    <tr>\n",
       "      <th>1</th>\n",
       "      <td>2</td>\n",
       "      <td>18</td>\n",
       "      <td>1</td>\n",
       "      <td>2</td>\n",
       "      <td>462</td>\n",
       "      <td>3</td>\n",
       "      <td>0</td>\n",
       "      <td>2</td>\n",
       "      <td>0</td>\n",
       "      <td>2</td>\n",
       "      <td>...</td>\n",
       "      <td>2</td>\n",
       "      <td>37</td>\n",
       "      <td>2</td>\n",
       "      <td>1</td>\n",
       "      <td>2</td>\n",
       "      <td>1</td>\n",
       "      <td>1</td>\n",
       "      <td>0</td>\n",
       "      <td>1</td>\n",
       "      <td>0</td>\n",
       "    </tr>\n",
       "    <tr>\n",
       "      <th>2</th>\n",
       "      <td>2</td>\n",
       "      <td>15</td>\n",
       "      <td>4</td>\n",
       "      <td>5</td>\n",
       "      <td>250</td>\n",
       "      <td>3</td>\n",
       "      <td>0</td>\n",
       "      <td>2</td>\n",
       "      <td>1</td>\n",
       "      <td>2</td>\n",
       "      <td>...</td>\n",
       "      <td>1</td>\n",
       "      <td>28</td>\n",
       "      <td>1</td>\n",
       "      <td>1</td>\n",
       "      <td>2</td>\n",
       "      <td>1</td>\n",
       "      <td>1</td>\n",
       "      <td>1</td>\n",
       "      <td>0</td>\n",
       "      <td>0</td>\n",
       "    </tr>\n",
       "    <tr>\n",
       "      <th>3</th>\n",
       "      <td>0</td>\n",
       "      <td>28</td>\n",
       "      <td>1</td>\n",
       "      <td>9</td>\n",
       "      <td>3693</td>\n",
       "      <td>3</td>\n",
       "      <td>2</td>\n",
       "      <td>3</td>\n",
       "      <td>1</td>\n",
       "      <td>2</td>\n",
       "      <td>...</td>\n",
       "      <td>2</td>\n",
       "      <td>32</td>\n",
       "      <td>1</td>\n",
       "      <td>1</td>\n",
       "      <td>1</td>\n",
       "      <td>1</td>\n",
       "      <td>1</td>\n",
       "      <td>0</td>\n",
       "      <td>1</td>\n",
       "      <td>0</td>\n",
       "    </tr>\n",
       "    <tr>\n",
       "      <th>4</th>\n",
       "      <td>3</td>\n",
       "      <td>28</td>\n",
       "      <td>4</td>\n",
       "      <td>4</td>\n",
       "      <td>6235</td>\n",
       "      <td>1</td>\n",
       "      <td>2</td>\n",
       "      <td>3</td>\n",
       "      <td>1</td>\n",
       "      <td>2</td>\n",
       "      <td>...</td>\n",
       "      <td>3</td>\n",
       "      <td>57</td>\n",
       "      <td>1</td>\n",
       "      <td>1</td>\n",
       "      <td>2</td>\n",
       "      <td>1</td>\n",
       "      <td>1</td>\n",
       "      <td>0</td>\n",
       "      <td>1</td>\n",
       "      <td>1</td>\n",
       "    </tr>\n",
       "  </tbody>\n",
       "</table>\n",
       "<p>5 rows × 21 columns</p>\n",
       "</div>"
      ],
      "text/plain": [
       "   CHECKINGSTATUS  LOANDURATION  CREDITHISTORY  LOANPURPOSE  LOANAMOUNT  \\\n",
       "0               0            31              1            6        1889   \n",
       "1               2            18              1            2         462   \n",
       "2               2            15              4            5         250   \n",
       "3               0            28              1            9        3693   \n",
       "4               3            28              4            4        6235   \n",
       "\n",
       "   EXISTINGSAVINGS  EMPLOYMENTDURATION  INSTALLMENTPERCENT  SEX  OTHERSONLOAN  \\\n",
       "0                0                   3                   3    0             2   \n",
       "1                3                   0                   2    0             2   \n",
       "2                3                   0                   2    1             2   \n",
       "3                3                   2                   3    1             2   \n",
       "4                1                   2                   3    1             2   \n",
       "\n",
       "   ...  OWNSPROPERTY  AGE  INSTALLMENTPLANS  HOUSING  EXISTINGCREDITSCOUNT  \\\n",
       "0  ...             2   32                 1        1                     1   \n",
       "1  ...             2   37                 2        1                     2   \n",
       "2  ...             1   28                 1        1                     2   \n",
       "3  ...             2   32                 1        1                     1   \n",
       "4  ...             3   57                 1        1                     2   \n",
       "\n",
       "   JOB  DEPENDENTS  TELEPHONE  FOREIGNWORKER  RISK  \n",
       "0    1           1          0              1     0  \n",
       "1    1           1          0              1     0  \n",
       "2    1           1          1              0     0  \n",
       "3    1           1          0              1     0  \n",
       "4    1           1          0              1     1  \n",
       "\n",
       "[5 rows x 21 columns]"
      ]
     },
     "execution_count": 36,
     "metadata": {},
     "output_type": "execute_result"
    }
   ],
   "source": [
    "df.head()"
   ]
  },
  {
   "cell_type": "code",
   "execution_count": 37,
   "metadata": {},
   "outputs": [
    {
     "data": {
      "text/plain": [
       "(6660, 21)"
      ]
     },
     "execution_count": 37,
     "metadata": {},
     "output_type": "execute_result"
    }
   ],
   "source": [
    "df.shape"
   ]
  },
  {
   "cell_type": "code",
   "execution_count": 38,
   "metadata": {},
   "outputs": [],
   "source": [
    "#preprocessing, split test and dataset, split response variable\n",
    "X = df.drop(labels='RISK', axis=1)\n",
    "#Response variable\n",
    "y = df.loc[:,'RISK']    "
   ]
  },
  {
   "cell_type": "markdown",
   "metadata": {},
   "source": [
    "# '''We'll use a test size of 30%. We also stratify the split on the response variable,\n",
    "which is very important to do because there are so few Patient Status'''\n"
   ]
  },
  {
   "cell_type": "code",
   "execution_count": 39,
   "metadata": {},
   "outputs": [
    {
     "name": "stdout",
     "output_type": "stream",
     "text": [
      "Number of training dataset:  5328\n",
      "Number of test dataset:  1332\n",
      "Total number of dataset:  6660\n"
     ]
    }
   ],
   "source": [
    "\n",
    "from sklearn.model_selection import train_test_split\n",
    "X_train, X_test, y_train, y_test = train_test_split(X, y, test_size=0.20, random_state=10, stratify=y)\n",
    "print(\"Number of training dataset: \", len(X_train))\n",
    "print(\"Number of test dataset: \", len(X_test))\n",
    "print(\"Total number of dataset: \", len(X_train)+len(X_test))\n"
   ]
  },
  {
   "cell_type": "code",
   "execution_count": 40,
   "metadata": {},
   "outputs": [],
   "source": [
    "#According to the cross-validated MCC scores, the random forest is the best-performing model, so now let's evaluate its performance on the test set.\n",
    "from sklearn.metrics import confusion_matrix, classification_report, accuracy_score"
   ]
  },
  {
   "cell_type": "markdown",
   "metadata": {},
   "source": [
    "# RandomForestClassifier"
   ]
  },
  {
   "cell_type": "code",
   "execution_count": 41,
   "metadata": {},
   "outputs": [
    {
     "name": "stdout",
     "output_type": "stream",
     "text": [
      "\n",
      "Classification report of RandomForestClassifier Results:\n",
      "\n",
      "              precision    recall  f1-score   support\n",
      "\n",
      "           0       0.75      0.73      0.74       666\n",
      "           1       0.74      0.75      0.74       666\n",
      "\n",
      "    accuracy                           0.74      1332\n",
      "   macro avg       0.74      0.74      0.74      1332\n",
      "weighted avg       0.74      0.74      0.74      1332\n",
      "\n",
      "\n",
      "accuracy_score of RandomForestClassifier Results:\n",
      "\n",
      "74.02402402402403\n",
      "\n",
      "Confusion Matrix result of RandomForestClassifier is:\n",
      " [[486 180]\n",
      " [166 500]]\n",
      "\n",
      "Sensitivity :  0.7297297297297297\n",
      "\n",
      "Specificity :  0.7507507507507507\n",
      "\n",
      "Cross validation test results of accuracy:\n",
      "[0.73198198 0.75975976 0.75975976 0.75375375 0.74774775]\n",
      "\n"
     ]
    }
   ],
   "source": [
    "from sklearn.ensemble import RandomForestClassifier\n",
    "from sklearn.model_selection import cross_val_score\n",
    "\n",
    "DT= RandomForestClassifier(max_depth=5)\n",
    "\n",
    "DT.fit(X_train,y_train)\n",
    "\n",
    "predictDT = DT.predict(X_test)\n",
    "\n",
    "print(\"\")\n",
    "print('Classification report of RandomForestClassifier Results:')\n",
    "print(\"\")\n",
    "print(classification_report(y_test,predictDT))\n",
    "\n",
    "\n",
    "print(\"\")\n",
    "print('accuracy_score of RandomForestClassifier Results:')\n",
    "print(\"\")\n",
    "print(accuracy_score(y_test,predictDT)*100)\n",
    "\n",
    "\n",
    "print(\"\")\n",
    "cm1=confusion_matrix(y_test,predictDT)\n",
    "print('Confusion Matrix result of RandomForestClassifier is:\\n',cm1)\n",
    "print(\"\")\n",
    "sensitivity1 = cm1[0,0]/(cm1[0,0]+cm1[0,1])\n",
    "print('Sensitivity : ', sensitivity1 )\n",
    "print(\"\")\n",
    "specificity1 = cm1[1,1]/(cm1[1,0]+cm1[1,1])\n",
    "print('Specificity : ', specificity1)\n",
    "print(\"\")\n",
    "\n",
    "accuracy = cross_val_score(DT, X, y, scoring='accuracy')\n",
    "print('Cross validation test results of accuracy:')\n",
    "print(accuracy)\n",
    "#get the mean of each fold \n",
    "print(\"\")\n",
    "#print(\"Accuracy result of RandomForestClassifier is:\",accuracy.mean() * 100)\n",
    "LR=accuracy.mean() * 100"
   ]
  },
  {
   "cell_type": "code",
   "execution_count": 42,
   "metadata": {},
   "outputs": [
    {
     "data": {
      "image/png": "[encoded data removed]",
      "text/plain": [
       "<Figure size 648x504 with 1 Axes>"
      ]
     },
     "metadata": {
      "needs_background": "light"
     },
     "output_type": "display_data"
    }
   ],
   "source": [
    "#checking the feature improtance in the model\n",
    "plt.figure(figsize=(9,7))\n",
    "n_features = X_train.shape[1]\n",
    "plt.barh(range(n_features), DT.feature_importances_, align='center')\n",
    "plt.yticks(n.arange(n_features), X_train.columns)\n",
    "plt.xlabel(\"Feature importance\")\n",
    "plt.ylabel(\"Feature\")\n",
    "plt.show()"
   ]
  },
  {
   "cell_type": "code",
   "execution_count": 43,
   "metadata": {},
   "outputs": [
    {
     "data": {
      "text/plain": [
       "['rf.pkl']"
      ]
     },
     "execution_count": 43,
     "metadata": {},
     "output_type": "execute_result"
    }
   ],
   "source": [
    "import joblib\n",
    "joblib.dump(DT,'rf.pkl')"
   ]
  },
  {
   "cell_type": "code",
   "execution_count": null,
   "metadata": {},
   "outputs": [],
   "source": []
  }
 ],
 "metadata": {
  "kernelspec": {
   "display_name": "Python 3",
   "language": "python",
   "name": "python3"
  },
  "language_info": {
   "codemirror_mode": {
    "name": "ipython",
    "version": 3
   },
   "file_extension": ".py",
   "mimetype": "text/x-python",
   "name": "python",
   "nbconvert_exporter": "python",
   "pygments_lexer": "ipython3",
   "version": "3.8.5"
  }
 },
 "nbformat": 4,
 "nbformat_minor": 5
}
